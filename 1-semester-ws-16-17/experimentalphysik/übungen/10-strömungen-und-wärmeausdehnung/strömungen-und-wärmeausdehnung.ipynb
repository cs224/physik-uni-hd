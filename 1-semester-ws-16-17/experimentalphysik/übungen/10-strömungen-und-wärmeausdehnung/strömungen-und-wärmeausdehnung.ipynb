{
 "cells": [
  {
   "cell_type": "markdown",
   "metadata": {},
   "source": [
    "# 10.1 Pipeline"
   ]
  },
  {
   "cell_type": "markdown",
   "metadata": {},
   "source": [
    "Massen oder Volumenstrom rein = das selbe raus\n",
    "$$dV/dt|_A =\\dot{V}_A = dV/dt|_C + dV/dt|_D = 2\\dot{V}$$"
   ]
  },
  {
   "cell_type": "markdown",
   "metadata": {},
   "source": [
    "$u_A$ ist Geschwindigkeit der Strömung bei A.\n",
    "\n",
    "$d^2\\pi/4$ ist Querschnittsfläche des Rohres bei A, C un D mit Durchmesser $d$. Die Rohre sind überall gleich dick.\n",
    "\n",
    "$$\\dot{V}_A := d^2\\pi/4 \\cdot u_A = 2\\dot{V}$$"
   ]
  },
  {
   "cell_type": "markdown",
   "metadata": {},
   "source": [
    "Reynoldszahl ist ${Re}=\\rho \\cdot u_A \\cdot d / \\eta$.\n",
    "\n",
    "Mit ${Re} = \\rho \\cdot u_A \\cdot d / \\eta < {Re}_K=2300$ (${Re}_K$ hängt von Literatur ab)"
   ]
  },
  {
   "cell_type": "markdown",
   "metadata": {},
   "source": [
    "$$\\Rightarrow u_A = \\frac{{Re}_K\\cdot \\eta}{\\rho\\cdot d}$$"
   ]
  },
  {
   "cell_type": "markdown",
   "metadata": {},
   "source": [
    "$$\\Rightarrow u_A=\\frac{8\\dot V}{d^2\\pi}=\\frac{{Re}_K\\cdot \\eta}{\\rho\\cdot d}$$"
   ]
  },
  {
   "cell_type": "markdown",
   "metadata": {},
   "source": [
    "Bernoulli:\n",
    "$$p_A + \\frac{1}{2}\\rho u_A^2 = p_{Ende} + \\frac{1}{2}\\rho u_{Ende}^2$$"
   ]
  },
  {
   "cell_type": "markdown",
   "metadata": {},
   "source": [
    "$$u_{Ende} = \\frac{\\dot{V}}{d^2\\pi/4}$$\n",
    "$$p_{Ende} = p_0$$"
   ]
  },
  {
   "cell_type": "markdown",
   "metadata": {},
   "source": [
    "Auflösen auf $p_A$."
   ]
  },
  {
   "cell_type": "markdown",
   "metadata": {},
   "source": [
    "# 10.1 Pipeline Musterlösung"
   ]
  },
  {
   "cell_type": "markdown",
   "metadata": {},
   "source": [
    "2 und 3 müssen nicht das gleiche Rohrvolumen und nicht den gleichen Radius haben"
   ]
  },
  {
   "cell_type": "markdown",
   "metadata": {},
   "source": [
    "Druckgradient:\n",
    "$\\frac{p_B-p_0}{l_2}$; $\\frac{p_B-p_0}{l_3}$ ist unterschiedlich"
   ]
  },
  {
   "cell_type": "markdown",
   "metadata": {},
   "source": [
    "[Gesetz von Hagen-Poiseuille](https://de.wikipedia.org/wiki/Gesetz_von_Hagen-Poiseuille):\n",
    "$$\\dot{V}_2=\\frac{\\pi}{8\\eta}R_2^4\\frac{p_B-p_0}{l_2}$$\n",
    "$$\\dot{V}_3=\\frac{\\pi}{8\\eta}R_3^4\\frac{p_B-p_0}{l_3}$$\n",
    "Da $\\dot{V}_2=\\dot{V}_3$ gilt:\n",
    "$$\\Rightarrow \\frac{R_2}{R_3}=\\sqrt[4]{\\frac{l_2}{l_3}}$$\n"
   ]
  },
  {
   "cell_type": "markdown",
   "metadata": {},
   "source": [
    "Mit ${Re} = \\rho \\cdot \\bar v \\cdot 2R / \\eta < {Re}_K=2300$ (${Re}_K$ hängt von Literatur ab)"
   ]
  },
  {
   "cell_type": "markdown",
   "metadata": {},
   "source": [
    "$$\\dot{V} := R^2\\pi \\cdot \\bar v$$\n",
    "$$\\dot{V}_A = 2\\dot{V}_2 = 2\\dot{V}_3$$"
   ]
  },
  {
   "cell_type": "markdown",
   "metadata": {},
   "source": [
    "$$R < \\frac{Re_K\\eta}{2\\rho\\bar v}=\\frac{Re_K\\eta}{2\\rho}\\frac{\\pi R^2}{\\dot{V_A}}$$\n",
    "$$R_1 > \\frac{2\\rho\\dot{V_A}}{\\pi\\eta Re_K}=\\frac{4\\rho\\dot{V}}{\\pi\\eta Re_K}$$"
   ]
  },
  {
   "cell_type": "markdown",
   "metadata": {},
   "source": [
    "$$R_2=\\frac{2\\rho\\dot{V}}{\\pi\\eta Re_K}$$"
   ]
  },
  {
   "cell_type": "markdown",
   "metadata": {},
   "source": [
    "$$R_3=R_2\\cdot\\sqrt[4]{\\frac{l_3}{l_2}}=\\frac{2\\rho\\dot{V}}{\\pi\\eta Re_K}\\cdot\\sqrt[4]{\\frac{l_3}{l_2}}$$"
   ]
  },
  {
   "cell_type": "markdown",
   "metadata": {},
   "source": [
    "$$\\Delta p_2=p_B-p_0=\\dot V\\cdot \\frac{l_2}{R_2^4}\\frac{8\\eta}{\\pi}$$"
   ]
  },
  {
   "cell_type": "markdown",
   "metadata": {},
   "source": [
    "$$\\Delta p_1 = p_A - p_B = 2\\dot V\\cdot \\frac{l_1}{R_1^4}\\frac{8\\eta}{\\pi}$$"
   ]
  },
  {
   "cell_type": "markdown",
   "metadata": {},
   "source": [
    "$$p_A = \\Delta p_1 + \\Delta p_2 + p_0= \\dot V\\frac{8\\eta}{\\pi}(\\frac{2l_1}{R_1^4}+\\frac{l_2}{R_2^4}) + p_0$$"
   ]
  },
  {
   "cell_type": "markdown",
   "metadata": {},
   "source": [
    "Einsetzen von $R_1^4$ und $R_2^4$ ergibt:"
   ]
  },
  {
   "cell_type": "markdown",
   "metadata": {},
   "source": [
    "$$p_A=p_0+\\dot V\\frac{8\\eta}{\\pi}(\\frac{2l_1}{(\\frac{4\\rho\\dot{V}}{\\pi\\eta Re_K})^4}+\\frac{l_2}{(\\frac{2\\rho\\dot{V}}{\\pi\\eta Re_K})^4})$$"
   ]
  },
  {
   "cell_type": "markdown",
   "metadata": {},
   "source": [
    "$$=p_0+\\dot V\\frac{8\\eta}{\\pi}\\left(\\frac{\\pi\\eta Re_K}{2\\rho\\dot{V}}\\right)^4(\\frac{1}{8}l_1+l_2)$$"
   ]
  },
  {
   "cell_type": "markdown",
   "metadata": {},
   "source": [
    "Bernoulli darf nicht angewendet werden. Bernoulli nur wenn Flüssigkeit als reibungsfrei angenommen wird. Dann dürfte kein $\\eta$ angegeben werden."
   ]
  },
  {
   "cell_type": "markdown",
   "metadata": {},
   "source": [
    "# 10.1 Pipeline mit Sympy"
   ]
  },
  {
   "cell_type": "code",
   "execution_count": 3,
   "metadata": {
    "collapsed": true
   },
   "outputs": [],
   "source": [
    "from sympy import *\n",
    "from sympy.solvers import solve\n",
    "init_printing()"
   ]
  },
  {
   "cell_type": "code",
   "execution_count": 4,
   "metadata": {
    "collapsed": false
   },
   "outputs": [
    {
     "data": {
      "image/png": "[encoded data removed]",
      "text/latex": [
       "$$R = 2^{\\frac{3}{4}} \\sqrt[4]{\\dot V} \\sqrt[4]{l} \\sqrt[4]{- \\frac{1}{\\pi \\eta p_{0} - \\pi \\eta p_{B}}}$$"
      ],
      "text/plain": [
       "                              ________________________\n",
       "     3/4 4 ________ 4 ___    ╱          -1            \n",
       "R = 2   ⋅╲╱ \\dot V ⋅╲╱ l ⋅4 ╱  ────────────────────── \n",
       "                          ╲╱   π⋅\\eta⋅p₀ - π⋅\\eta⋅p_B "
      ]
     },
     "execution_count": 4,
     "metadata": {},
     "output_type": "execute_result"
    }
   ],
   "source": [
    "dotV = Symbol(\"\\dot V\", positive=True)\n",
    "eta = Symbol(\"\\eta\", positive=True)\n",
    "R = Symbol(\"R\", positive=True)\n",
    "p_B = Symbol(\"p_B\", positive=True)\n",
    "p_0 = Symbol(\"p_0\", positive=True)\n",
    "l = Symbol(\"l\", positive=True)\n",
    "e1 = Eq(dotV, (pi/8*eta)*R**4*((p_B-p_0)/l))\n",
    "eR = Eq(R, solve(e1, R)[1])\n",
    "eR\n"
   ]
  },
  {
   "cell_type": "code",
   "execution_count": 19,
   "metadata": {
    "collapsed": false
   },
   "outputs": [
    {
     "data": {
      "image/png": "[encoded data removed]",
      "text/latex": [
       "$$\\frac{R_{2}}{R_{3}} = \\frac{\\sqrt[4]{l_{2}}}{\\sqrt[4]{l_{3}}}$$"
      ],
      "text/plain": [
       "     4 ____\n",
       "R₂   ╲╱ l₂ \n",
       "── = ──────\n",
       "R₃   4 ____\n",
       "     ╲╱ l₃ "
      ]
     },
     "execution_count": 19,
     "metadata": {},
     "output_type": "execute_result"
    }
   ],
   "source": [
    "dotV_0 = Symbol(\"\\dot V_0\", positive=True)\n",
    "\n",
    "dotV_1 = Symbol(\"\\dot V_1\", positive=True)\n",
    "R_1 = Symbol(\"R_1\", positive=True)\n",
    "l_1 = Symbol(\"l_1\", positive=True)\n",
    "\n",
    "dotV_2 = Symbol(\"\\dot V_2\", positive=True)\n",
    "R_2 = Symbol(\"R_2\", positive=True)\n",
    "l_2 = Symbol(\"l_2\", positive=True)\n",
    "\n",
    "dotV_3 = Symbol(\"\\dot V_3\", positive=True)\n",
    "R_3 = Symbol(\"R_3\", positive=True)\n",
    "l_3 = Symbol(\"l_3\", positive=True)\n",
    "\n",
    "e2 = Eq(dotV_2, dotV_0)\n",
    "e3 = Eq(dotV_3, dotV_0)\n",
    "e31 = Eq(dotV_1, 2*dotV_0)\n",
    "\n",
    "eR_2_over_R_3 = simplify(eR.rhs.subs(dotV, dotV_0).subs(l, l_2) / eR.rhs.subs(dotV, dotV_0).subs(l, l_3))\n",
    "Eq(R_2/R_3, eR_2_over_R_3)"
   ]
  },
  {
   "cell_type": "code",
   "execution_count": 6,
   "metadata": {
    "collapsed": false
   },
   "outputs": [
    {
     "data": {
      "image/png": "[encoded data removed]",
      "text/latex": [
       "$$Re = \\frac{2 R}{\\eta} \\bar v \\rho$$"
      ],
      "text/plain": [
       "     2⋅R⋅\\bar v⋅\\rho\n",
       "Re = ───────────────\n",
       "           \\eta     "
      ]
     },
     "execution_count": 6,
     "metadata": {},
     "output_type": "execute_result"
    }
   ],
   "source": [
    "Re = Symbol(\"Re\", positive=True)\n",
    "Re_K = Symbol(\"Re_K\", positive=True)\n",
    "rho = Symbol(\"\\\\rho\", positive=True)\n",
    "barv = Symbol(\"\\\\bar v\", positive=True)\n",
    "R = Symbol(\"R\", positive=True)\n",
    "e4 = Eq(Re,2*R*rho*barv/eta)\n",
    "e4"
   ]
  },
  {
   "cell_type": "code",
   "execution_count": 7,
   "metadata": {
    "collapsed": false
   },
   "outputs": [
    {
     "data": {
      "image/png": "[encoded data removed]",
      "text/latex": [
       "$$\\dot V = \\pi R^{2} \\bar v$$"
      ],
      "text/plain": [
       "            2       \n",
       "\\dot V = π⋅R ⋅\\bar v"
      ]
     },
     "execution_count": 7,
     "metadata": {},
     "output_type": "execute_result"
    }
   ],
   "source": [
    "e5 = Eq(dotV, pi*R**2*barv)\n",
    "e5"
   ]
  },
  {
   "cell_type": "code",
   "execution_count": 8,
   "metadata": {
    "collapsed": false
   },
   "outputs": [
    {
     "data": {
      "image/png": "[encoded data removed]",
      "text/latex": [
       "$$\\left [ \\left \\{ R : \\frac{2 \\dot V \\rho}{\\pi Re \\eta}, \\quad \\bar v : \\frac{\\pi Re^{2} \\eta^{2}}{4 \\dot V \\rho^{2}}\\right \\}\\right ]$$"
      ],
      "text/plain": [
       "⎡⎧                               2     2  ⎫⎤\n",
       "⎢⎪   2⋅\\dot V⋅\\rho           π⋅Re ⋅\\eta   ⎪⎥\n",
       "⎢⎨R: ─────────────, \\bar v: ──────────────⎬⎥\n",
       "⎢⎪     π⋅Re⋅\\eta                         2⎪⎥\n",
       "⎣⎩                          4⋅\\dot V⋅\\rho ⎭⎦"
      ]
     },
     "execution_count": 8,
     "metadata": {},
     "output_type": "execute_result"
    }
   ],
   "source": [
    "solve([e4, e5], [barv, R], dict=True)"
   ]
  },
  {
   "cell_type": "markdown",
   "metadata": {},
   "source": [
    "---\n",
    "The above solution, to provide two equations and ask for two variables to solve for is preferrable.\n",
    "But just to do it once \"by foot\" and step by step manually see the next three lines:"
   ]
  },
  {
   "cell_type": "code",
   "execution_count": 9,
   "metadata": {
    "collapsed": false
   },
   "outputs": [
    {
     "data": {
      "image/png": "[encoded data removed]",
      "text/latex": [
       "$$\\bar v = \\frac{\\dot V}{\\pi R^{2}}$$"
      ],
      "text/plain": [
       "         \\dot V\n",
       "\\bar v = ──────\n",
       "             2 \n",
       "          π⋅R  "
      ]
     },
     "execution_count": 9,
     "metadata": {},
     "output_type": "execute_result"
    }
   ],
   "source": [
    "Eq(barv, solve(e5, barv)[0])"
   ]
  },
  {
   "cell_type": "code",
   "execution_count": 10,
   "metadata": {
    "collapsed": false
   },
   "outputs": [
    {
     "data": {
      "image/png": "[encoded data removed]",
      "text/latex": [
       "$$Re = \\frac{2 \\dot V \\rho}{\\pi R \\eta}$$"
      ],
      "text/plain": [
       "     2⋅\\dot V⋅\\rho\n",
       "Re = ─────────────\n",
       "        π⋅R⋅\\eta  "
      ]
     },
     "execution_count": 10,
     "metadata": {},
     "output_type": "execute_result"
    }
   ],
   "source": [
    "e4.subs(barv, solve(e5, barv)[0])"
   ]
  },
  {
   "cell_type": "code",
   "execution_count": 11,
   "metadata": {
    "collapsed": false
   },
   "outputs": [
    {
     "data": {
      "image/png": "[encoded data removed]",
      "text/latex": [
       "$$R = \\frac{2 \\dot V \\rho}{\\pi Re \\eta}$$"
      ],
      "text/plain": [
       "    2⋅\\dot V⋅\\rho\n",
       "R = ─────────────\n",
       "      π⋅Re⋅\\eta  "
      ]
     },
     "execution_count": 11,
     "metadata": {},
     "output_type": "execute_result"
    }
   ],
   "source": [
    "Eq(R, solve(e4.subs(barv, solve(e5, barv)[0]), R)[0])"
   ]
  },
  {
   "cell_type": "markdown",
   "metadata": {},
   "source": [
    "So back to the main calculation again\n",
    "\n",
    "---"
   ]
  },
  {
   "cell_type": "code",
   "execution_count": 13,
   "metadata": {
    "collapsed": false
   },
   "outputs": [
    {
     "data": {
      "image/png": "[encoded data removed]",
      "text/latex": [
       "$$R = \\frac{2 \\dot V \\rho}{\\pi Re \\eta}$$"
      ],
      "text/plain": [
       "    2⋅\\dot V⋅\\rho\n",
       "R = ─────────────\n",
       "      π⋅Re⋅\\eta  "
      ]
     },
     "execution_count": 13,
     "metadata": {},
     "output_type": "execute_result"
    }
   ],
   "source": [
    "rR = Eq(R,solve([e4, e5], [barv, R], dict=True)[0][R])\n",
    "rR"
   ]
  },
  {
   "cell_type": "code",
   "execution_count": 21,
   "metadata": {
    "collapsed": false
   },
   "outputs": [
    {
     "data": {
      "image/png": "[encoded data removed]",
      "text/latex": [
       "$$R_{1} = \\frac{2 \\dot V_1 \\rho}{\\pi Re_{K} \\eta}$$"
      ],
      "text/plain": [
       "     2⋅\\dot V₁⋅\\rho\n",
       "R₁ = ──────────────\n",
       "      π⋅Re_K⋅\\eta  "
      ]
     },
     "execution_count": 21,
     "metadata": {},
     "output_type": "execute_result"
    }
   ],
   "source": [
    "rR_1 = rR.subs(Re, Re_K).subs(R,R_1).subs(dotV, dotV_1)\n",
    "rR_1"
   ]
  },
  {
   "cell_type": "code",
   "execution_count": 24,
   "metadata": {
    "collapsed": false
   },
   "outputs": [
    {
     "data": {
      "image/png": "[encoded data removed]",
      "text/latex": [
       "$$R_{1} = \\frac{4 \\dot V_0 \\rho}{\\pi Re_{K} \\eta}$$"
      ],
      "text/plain": [
       "     4⋅\\dot V₀⋅\\rho\n",
       "R₁ = ──────────────\n",
       "      π⋅Re_K⋅\\eta  "
      ]
     },
     "execution_count": 24,
     "metadata": {},
     "output_type": "execute_result"
    }
   ],
   "source": [
    "rR_1 = Eq(R_1, solve([rR_1, e31], [R_1, dotV_1], dict=True)[0][R_1])\n",
    "rR_1"
   ]
  },
  {
   "cell_type": "code",
   "execution_count": 25,
   "metadata": {
    "collapsed": false
   },
   "outputs": [
    {
     "data": {
      "image/png": "[encoded data removed]",
      "text/latex": [
       "$$R_{2} = \\frac{2 \\dot V_0 \\rho}{\\pi Re_{K} \\eta}$$"
      ],
      "text/plain": [
       "     2⋅\\dot V₀⋅\\rho\n",
       "R₂ = ──────────────\n",
       "      π⋅Re_K⋅\\eta  "
      ]
     },
     "execution_count": 25,
     "metadata": {},
     "output_type": "execute_result"
    }
   ],
   "source": [
    "rR_2 = rR.subs(Re, Re_K).subs(R,R_2).subs(dotV, dotV_2)\n",
    "rR_2 = Eq(R_2, solve([rR_2, e2], [R_2, dotV_2], dict=True)[0][R_2])\n",
    "rR_2"
   ]
  },
  {
   "cell_type": "code",
   "execution_count": 28,
   "metadata": {
    "collapsed": false
   },
   "outputs": [
    {
     "data": {
      "image/png": "[encoded data removed]",
      "text/latex": [
       "$$\\frac{R_{2}}{R_{3}} = \\frac{\\sqrt[4]{l_{2}}}{\\sqrt[4]{l_{3}}}$$"
      ],
      "text/plain": [
       "     4 ____\n",
       "R₂   ╲╱ l₂ \n",
       "── = ──────\n",
       "R₃   4 ____\n",
       "     ╲╱ l₃ "
      ]
     },
     "execution_count": 28,
     "metadata": {},
     "output_type": "execute_result"
    }
   ],
   "source": [
    "rR2_over_R3 = Eq(R_2/R_3, eR_2_over_R_3)\n",
    "rR2_over_R3"
   ]
  },
  {
   "cell_type": "code",
   "execution_count": 29,
   "metadata": {
    "collapsed": false
   },
   "outputs": [
    {
     "data": {
      "image/png": "[encoded data removed]",
      "text/latex": [
       "$$\\left [ \\left \\{ R_{2} : \\frac{2 \\dot V_0 \\rho}{\\pi Re_{K} \\eta}, \\quad R_{3} : \\frac{2 \\dot V_0 \\rho \\sqrt[4]{l_{3}}}{\\pi Re_{K} \\eta \\sqrt[4]{l_{2}}}\\right \\}\\right ]$$"
      ],
      "text/plain": [
       "⎡⎧                                       4 ____⎫⎤\n",
       "⎢⎪    2⋅\\dot V₀⋅\\rho      2⋅\\dot V₀⋅\\rho⋅╲╱ l₃ ⎪⎥\n",
       "⎢⎨R₂: ──────────────, R₃: ─────────────────────⎬⎥\n",
       "⎢⎪     π⋅Re_K⋅\\eta                      4 ____ ⎪⎥\n",
       "⎣⎩                          π⋅Re_K⋅\\eta⋅╲╱ l₂  ⎭⎦"
      ]
     },
     "execution_count": 29,
     "metadata": {},
     "output_type": "execute_result"
    }
   ],
   "source": [
    "solve([rR2_over_R3, rR_2], [R_2, R_3], dict=True)"
   ]
  },
  {
   "cell_type": "code",
   "execution_count": 30,
   "metadata": {
    "collapsed": false
   },
   "outputs": [
    {
     "data": {
      "image/png": "[encoded data removed]",
      "text/latex": [
       "$$\\dot V = \\frac{\\pi \\Delta p \\eta}{8 l} R^{4}$$"
      ],
      "text/plain": [
       "            4              \n",
       "         π⋅R ⋅\\Delta p⋅\\eta\n",
       "\\dot V = ──────────────────\n",
       "                8⋅l        "
      ]
     },
     "execution_count": 30,
     "metadata": {},
     "output_type": "execute_result"
    }
   ],
   "source": [
    "Delta_p = Symbol(\"\\Delta p\", positive=True)\n",
    "eDelta_p = Eq(dotV, (pi/8*eta)*R**4*((Delta_p)/l))\n",
    "eDelta_p"
   ]
  },
  {
   "cell_type": "code",
   "execution_count": 31,
   "metadata": {
    "collapsed": false
   },
   "outputs": [
    {
     "data": {
      "image/png": "[encoded data removed]",
      "text/latex": [
       "$$\\Delta p_2 = - p_{0} + p_{B}$$"
      ],
      "text/plain": [
       "\\Delta p₂ = -p₀ + p_B"
      ]
     },
     "execution_count": 31,
     "metadata": {},
     "output_type": "execute_result"
    }
   ],
   "source": [
    "Delta_p_2 = Symbol(\"\\Delta p_2\", positive=True)\n",
    "eDelta_p_2 = Eq(Delta_p_2, p_B - p_0)\n",
    "eDelta_p_2"
   ]
  },
  {
   "cell_type": "code",
   "execution_count": 32,
   "metadata": {
    "collapsed": false
   },
   "outputs": [
    {
     "data": {
      "image/png": "[encoded data removed]",
      "text/latex": [
       "$$\\Delta p_1 = p_{A} - p_{B}$$"
      ],
      "text/plain": [
       "\\Delta p₁ = p_A - p_B"
      ]
     },
     "execution_count": 32,
     "metadata": {},
     "output_type": "execute_result"
    }
   ],
   "source": [
    "p_A = Symbol(\"p_A\", positive=True)\n",
    "Delta_p_1 = Symbol(\"\\Delta p_1\", positive=True)\n",
    "eDelta_p_1 = Eq(Delta_p_1, p_A - p_B)\n",
    "eDelta_p_1"
   ]
  },
  {
   "cell_type": "code",
   "execution_count": 39,
   "metadata": {
    "collapsed": false
   },
   "outputs": [
    {
     "data": {
      "image/png": "[encoded data removed]",
      "text/latex": [
       "$$p_{A} = \\Delta p_1 + \\Delta p_2 + p_{0}$$"
      ],
      "text/plain": [
       "p_A = \\Delta p₁ + \\Delta p₂ + p₀"
      ]
     },
     "execution_count": 39,
     "metadata": {},
     "output_type": "execute_result"
    }
   ],
   "source": [
    "rp_A = Eq(p_A, solve([eDelta_p_1, eDelta_p_2], [p_A, p_B], dict=True)[0][p_A])\n",
    "rp_A"
   ]
  },
  {
   "cell_type": "code",
   "execution_count": 47,
   "metadata": {
    "collapsed": false
   },
   "outputs": [
    {
     "data": {
      "image/png": "[encoded data removed]",
      "text/latex": [
       "$$\\left [ \\left \\{ R_{1} : \\frac{4 \\dot V_0 \\rho}{\\pi Re_{K} \\eta}, \\quad R_{2} : \\frac{2 \\dot V_0 \\rho}{\\pi Re_{K} \\eta}, \\quad \\Delta p_1 : \\frac{\\pi^{3} Re_{K}^{4} \\eta^{3} l_{1}}{16 \\dot V_0^{3} \\rho^{4}}, \\quad \\Delta p_2 : \\frac{\\pi^{3} Re_{K}^{4} \\eta^{3} l_{2}}{2 \\dot V_0^{3} \\rho^{4}}, \\quad \\dot V_1 : 2 \\dot V_0, \\quad \\dot V_2 : \\dot V_0, \\quad p_{A} : \\frac{1}{\\dot V_0^{3} \\rho^{4}} \\left(\\frac{\\pi^{3} l_{1}}{16} Re_{K}^{4} \\eta^{3} + \\frac{\\pi^{3} l_{2}}{2} Re_{K}^{4} \\eta^{3} + \\dot V_0^{3} \\rho^{4} p_{0}\\right)\\right \\}\\right ]$$"
      ],
      "text/plain": [
       "⎡⎧                                                                            \n",
       "⎢⎪                                                                            \n",
       "⎢⎪                                                    3     4     3           \n",
       "⎢⎨    4⋅\\dot V₀⋅\\rho      2⋅\\dot V₀⋅\\rho             π ⋅Re_K ⋅\\eta ⋅l₁        \n",
       "⎢⎪R₁: ──────────────, R₂: ──────────────, \\Delta p₁: ─────────────────, \\Delta\n",
       "⎢⎪     π⋅Re_K⋅\\eta         π⋅Re_K⋅\\eta                         3     4        \n",
       "⎣⎩                                                   16⋅\\dot V₀ ⋅\\rho         \n",
       "\n",
       "                                                                    3     4   \n",
       "                                                                   π ⋅Re_K ⋅\\e\n",
       "      3     4     3                                                ───────────\n",
       "     π ⋅Re_K ⋅\\eta ⋅l₂                                                     16 \n",
       " p₂: ─────────────────, \\dot V₁: 2⋅\\dot V₀, \\dot V₂: \\dot V₀, p_A: ───────────\n",
       "               3     4                                                        \n",
       "      2⋅\\dot V₀ ⋅\\rho                                                         \n",
       "\n",
       "  3       3     4     3                       ⎫⎤\n",
       "ta ⋅l₁   π ⋅Re_K ⋅\\eta ⋅l₂          3     4   ⎪⎥\n",
       "────── + ───────────────── + \\dot V₀ ⋅\\rho ⋅p₀⎪⎥\n",
       "                 2                            ⎬⎥\n",
       "──────────────────────────────────────────────⎪⎥\n",
       "                  3     4                     ⎪⎥\n",
       "           \\dot V₀ ⋅\\rho                      ⎭⎦"
      ]
     },
     "execution_count": 47,
     "metadata": {},
     "output_type": "execute_result"
    }
   ],
   "source": [
    "eHP1 = eDelta_p.subs(R,R_1).subs(l,l_1).subs(dotV, dotV_1).subs(Delta_p, Delta_p_1)\n",
    "eHP2 = eDelta_p.subs(R,R_2).subs(l,l_2).subs(dotV, dotV_2).subs(Delta_p, Delta_p_2)\n",
    "rp_A_and_others = solve([rp_A, eHP1, eHP2, e2, e31, rR_1, rR_2], [p_A, Delta_p_1, Delta_p_2, dotV_1, dotV_2, R_1, R_2], dict=True)\n",
    "rp_A_and_others"
   ]
  },
  {
   "cell_type": "code",
   "execution_count": 50,
   "metadata": {
    "collapsed": false
   },
   "outputs": [
    {
     "data": {
      "image/png": "[encoded data removed]",
      "text/latex": [
       "$$- p_{0} + p_{A} = \\frac{\\pi^{3} Re_{K}^{4} \\eta^{3} \\left(l_{1} + 8 l_{2}\\right)}{16 \\dot V_0^{3} \\rho^{4}}$$"
      ],
      "text/plain": [
       "             3     4     3            \n",
       "            π ⋅Re_K ⋅\\eta ⋅(l₁ + 8⋅l₂)\n",
       "-p₀ + p_A = ──────────────────────────\n",
       "                          3     4     \n",
       "                16⋅\\dot V₀ ⋅\\rho      "
      ]
     },
     "execution_count": 50,
     "metadata": {},
     "output_type": "execute_result"
    }
   ],
   "source": [
    "Eq(p_A - p_0, simplify(rp_A_and_others[0][p_A]-p_0))\n"
   ]
  },
  {
   "cell_type": "code",
   "execution_count": null,
   "metadata": {
    "collapsed": true
   },
   "outputs": [],
   "source": []
  }
 ],
 "metadata": {
  "anaconda-cloud": {},
  "kernelspec": {
   "display_name": "Python [conda root]",
   "language": "python",
   "name": "conda-root-py"
  },
  "language_info": {
   "codemirror_mode": {
    "name": "ipython",
    "version": 3
   },
   "file_extension": ".py",
   "mimetype": "text/x-python",
   "name": "python",
   "nbconvert_exporter": "python",
   "pygments_lexer": "ipython3",
   "version": "3.5.2"
  }
 },
 "nbformat": 4,
 "nbformat_minor": 1
}
