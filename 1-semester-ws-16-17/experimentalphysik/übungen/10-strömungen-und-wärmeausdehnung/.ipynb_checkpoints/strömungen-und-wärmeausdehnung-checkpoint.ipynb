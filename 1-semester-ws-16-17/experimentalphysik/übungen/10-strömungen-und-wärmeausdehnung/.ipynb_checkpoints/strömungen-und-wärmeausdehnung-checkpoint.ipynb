{
 "cells": [
  {
   "cell_type": "markdown",
   "metadata": {},
   "source": [
    "# 10.1 Pipeline"
   ]
  },
  {
   "cell_type": "markdown",
   "metadata": {},
   "source": [
    "Massen oder Volumenstrom rein = das selbe raus\n",
    "$$dV/dt|_A =\\dot{V}_A = dV/dt|_C + dV/dt|_D = 2\\dot{V}$$"
   ]
  },
  {
   "cell_type": "markdown",
   "metadata": {},
   "source": [
    "$u_A$ ist Geschwindigkeit der Strömung bei A.\n",
    "\n",
    "$d^2\\pi/4$ ist Querschnittsfläche des Rohres bei A, C un D mit Durchmesser $d$. Die Rohre sind überall gleich dick.\n",
    "\n",
    "$$\\dot{V}_A := d^2\\pi/4 \\cdot u_A = 2\\dot{V}$$"
   ]
  },
  {
   "cell_type": "markdown",
   "metadata": {},
   "source": [
    "Reynoldszahl ist ${Re}=\\rho \\cdot u_A \\cdot d / \\eta$.\n",
    "\n",
    "Mit ${Re} = \\rho \\cdot u_A \\cdot d / \\eta < {Re}_K=2300$ (${Re}_K$ hängt von Literatur ab)"
   ]
  },
  {
   "cell_type": "markdown",
   "metadata": {},
   "source": [
    "$$\\Rightarrow u_A = \\frac{{Re}_K\\cdot \\eta}{\\rho\\cdot d}$$"
   ]
  },
  {
   "cell_type": "markdown",
   "metadata": {},
   "source": [
    "$$\\Rightarrow u_A=\\frac{8\\dot V}{d^2\\pi}=\\frac{{Re}_K\\cdot \\eta}{\\rho\\cdot d}$$"
   ]
  },
  {
   "cell_type": "markdown",
   "metadata": {},
   "source": [
    "Bernoulli:\n",
    "$$p_A + \\frac{1}{2}\\rho u_A^2 = p_{Ende} + \\frac{1}{2}\\rho u_{Ende}^2$$"
   ]
  },
  {
   "cell_type": "markdown",
   "metadata": {},
   "source": [
    "$$u_{Ende} = \\frac{\\dot{V}}{d^2\\pi/4}$$\n",
    "$$p_{Ende} = p_0$$"
   ]
  },
  {
   "cell_type": "markdown",
   "metadata": {},
   "source": [
    "Auflösen auf $p_A$."
   ]
  },
  {
   "cell_type": "markdown",
   "metadata": {},
   "source": [
    "# 10.1 Pipeline Musterlösung"
   ]
  },
  {
   "cell_type": "markdown",
   "metadata": {},
   "source": [
    "2 und 3 müssen nicht das gleiche Rohrvolumen und nicht den gleichen Radius haben"
   ]
  },
  {
   "cell_type": "markdown",
   "metadata": {},
   "source": [
    "Druckgradient:\n",
    "$\\frac{p_B-p_0}{l_2}$; $\\frac{p_B-p_0}{l_3}$ ist unterschiedlich"
   ]
  },
  {
   "cell_type": "markdown",
   "metadata": {},
   "source": [
    "[Gesetz von Hagen-Poiseuille](https://de.wikipedia.org/wiki/Gesetz_von_Hagen-Poiseuille):\n",
    "$$\\dot{V}_2=\\frac{\\pi}{8\\eta}R_2^4\\frac{p_B-p_0}{l_2}$$\n",
    "$$\\dot{V}_3=\\frac{\\pi}{8\\eta}R_3^4\\frac{p_B-p_0}{l_3}$$\n",
    "Da $\\dot{V}_2=\\dot{V}_3$ gilt:\n",
    "$$\\Rightarrow \\frac{R_2}{R_3}=\\sqrt[4]{\\frac{l_2}{l_3}}$$\n"
   ]
  },
  {
   "cell_type": "markdown",
   "metadata": {},
   "source": [
    "Mit ${Re} = \\rho \\cdot \\bar v \\cdot 2R / \\eta < {Re}_K=2300$ (${Re}_K$ hängt von Literatur ab)"
   ]
  },
  {
   "cell_type": "markdown",
   "metadata": {},
   "source": [
    "$$\\dot{V} := R^2\\pi \\cdot \\bar v$$\n",
    "$$\\dot{V}_A = 2\\dot{V}_2 = 2\\dot{V}_3$$"
   ]
  },
  {
   "cell_type": "markdown",
   "metadata": {},
   "source": [
    "$$R < \\frac{Re_K\\eta}{2\\rho\\bar v}=\\frac{Re_K\\eta}{2\\rho}\\frac{\\pi R^2}{\\dot{V_A}}$$\n",
    "$$R_1 > \\frac{2\\rho\\dot{V_A}}{\\pi\\eta Re_K}=\\frac{4\\rho\\dot{V}}{\\pi\\eta Re_K}$$"
   ]
  },
  {
   "cell_type": "markdown",
   "metadata": {},
   "source": [
    "$$R_2=\\frac{2\\rho\\dot{V}}{\\pi\\eta Re_K}$$"
   ]
  },
  {
   "cell_type": "markdown",
   "metadata": {},
   "source": [
    "$$R_3=R_2\\cdot\\sqrt[4]{\\frac{l_3}{l_2}}=\\frac{2\\rho\\dot{V}}{\\pi\\eta Re_K}\\cdot\\sqrt[4]{\\frac{l_3}{l_2}}$$"
   ]
  },
  {
   "cell_type": "markdown",
   "metadata": {},
   "source": [
    "$$\\Delta p_2=p_B-p_0=\\dot V\\cdot \\frac{l_2}{R_2^4}\\frac{8\\eta}{\\pi}$$"
   ]
  },
  {
   "cell_type": "markdown",
   "metadata": {},
   "source": [
    "$$\\Delta p_1 = p_A - p_B = 2\\dot V\\cdot \\frac{l_1}{R_1^4}\\frac{8\\eta}{\\pi}$$"
   ]
  },
  {
   "cell_type": "markdown",
   "metadata": {},
   "source": [
    "$$p_A = \\Delta p_1 + \\Delta p_2 + p_0= \\dot V\\frac{8\\eta}{\\pi}(\\frac{2l_1}{R_1^4}+\\frac{l_2}{R_2^4}) + p_0$$"
   ]
  },
  {
   "cell_type": "markdown",
   "metadata": {},
   "source": [
    "Einsetzen von $R_1^4$ und $R_2^4$ ergibt:"
   ]
  },
  {
   "cell_type": "markdown",
   "metadata": {},
   "source": [
    "$$p_A=p_0+\\dot V\\frac{8\\eta}{\\pi}(\\frac{2l_1}{(\\frac{4\\rho\\dot{V}}{\\pi\\eta Re_K})^4}+\\frac{l_2}{(\\frac{2\\rho\\dot{V}}{\\pi\\eta Re_K})^4})$$"
   ]
  },
  {
   "cell_type": "markdown",
   "metadata": {},
   "source": [
    "$$=p_0+\\dot V\\frac{8\\eta}{\\pi}\\left(\\frac{\\pi\\eta Re_K}{2\\rho\\dot{V}}\\right)^4(\\frac{1}{8}l_1+l_2)$$"
   ]
  },
  {
   "cell_type": "markdown",
   "metadata": {},
   "source": [
    "Bernoulli darf nicht angewendet werden. Bernoulli nur wenn Flüssigkeit als reibungsfrei angenommen wird. Dann dürfte kein $\\eta$ angegeben werden."
   ]
  },
  {
   "cell_type": "markdown",
   "metadata": {},
   "source": [
    "# 10.1 Pipeline mit Sympy"
   ]
  },
  {
   "cell_type": "code",
   "execution_count": 1,
   "metadata": {
    "collapsed": true
   },
   "outputs": [],
   "source": [
    "from sympy import *\n",
    "from sympy.solvers import solve\n",
    "init_printing()"
   ]
  },
  {
   "cell_type": "code",
   "execution_count": 3,
   "metadata": {
    "collapsed": false
   },
   "outputs": [
    {
     "data": {
      "image/png": "[encoded data removed]",
      "text/latex": [
       "$$R = 2^{\\frac{3}{4}} \\sqrt[4]{\\dot V} \\sqrt[4]{l} \\sqrt[4]{- \\frac{1}{\\pi \\eta p_{0} - \\pi \\eta p_{B}}}$$"
      ],
      "text/plain": [
       "                              ________________________\n",
       "     3/4 4 ________ 4 ___    ╱          -1            \n",
       "R = 2   ⋅╲╱ \\dot V ⋅╲╱ l ⋅4 ╱  ────────────────────── \n",
       "                          ╲╱   π⋅\\eta⋅p₀ - π⋅\\eta⋅p_B "
      ]
     },
     "execution_count": 3,
     "metadata": {},
     "output_type": "execute_result"
    }
   ],
   "source": [
    "dotV = Symbol(\"\\dot V\", positive=True)\n",
    "eta = Symbol(\"\\eta\", positive=True)\n",
    "R = Symbol(\"R\", positive=True)\n",
    "p_B = Symbol(\"p_B\", positive=True)\n",
    "p_0 = Symbol(\"p_0\", positive=True)\n",
    "l = Symbol(\"l\", positive=True)\n",
    "e1 = Eq(dotV, (pi/8*eta)*R**4*((p_B-p_0)/l))\n",
    "eR = Eq(R, solve(e1, R)[1])\n",
    "eR\n"
   ]
  },
  {
   "cell_type": "code",
   "execution_count": 5,
   "metadata": {
    "collapsed": false
   },
   "outputs": [
    {
     "data": {
      "image/png": "[encoded data removed]",
      "text/latex": [
       "$$\\frac{R_{2}}{R_{3}} = \\frac{\\sqrt[4]{l_{2}}}{\\sqrt[4]{l_{3}}}$$"
      ],
      "text/plain": [
       "     4 ____\n",
       "R₂   ╲╱ l₂ \n",
       "── = ──────\n",
       "R₃   4 ____\n",
       "     ╲╱ l₃ "
      ]
     },
     "execution_count": 5,
     "metadata": {},
     "output_type": "execute_result"
    }
   ],
   "source": [
    "dotV_0 = Symbol(\"\\dot V_0\", positive=True)\n",
    "\n",
    "dotV_2 = Symbol(\"\\dot V_2\", positive=True)\n",
    "R_2 = Symbol(\"R_2\", positive=True)\n",
    "l_2 = Symbol(\"l_2\", positive=True)\n",
    "\n",
    "dotV_3 = Symbol(\"\\dot V_3\", positive=True)\n",
    "R_3 = Symbol(\"R_3\", positive=True)\n",
    "l_3 = Symbol(\"l_3\", positive=True)\n",
    "\n",
    "e2 = Eq(dotV_2, dotV_0)\n",
    "e3 = Eq(dotV_3, dotV_0)\n",
    "\n",
    "eR_2_over_R_3 = simplify(eR.rhs.subs(dotV, dotV_0).subs(l, l_2) / eR.rhs.subs(dotV, dotV_0).subs(l, l_3))\n",
    "Eq(R_2/R_3, eR_2_over_R_3)"
   ]
  },
  {
   "cell_type": "code",
   "execution_count": 6,
   "metadata": {
    "collapsed": false
   },
   "outputs": [
    {
     "data": {
      "image/png": "[encoded data removed]",
      "text/latex": [
       "$$Re = \\frac{2 R}{\\eta} \\bar v \\rho$$"
      ],
      "text/plain": [
       "     2⋅R⋅\\bar v⋅\\rho\n",
       "Re = ───────────────\n",
       "           \\eta     "
      ]
     },
     "execution_count": 6,
     "metadata": {},
     "output_type": "execute_result"
    }
   ],
   "source": [
    "Re = Symbol(\"Re\", positive=True)\n",
    "Re_K = Symbol(\"Re_K\", positive=True)\n",
    "rho = Symbol(\"\\\\rho\", positive=True)\n",
    "barv = Symbol(\"\\\\bar v\", positive=True)\n",
    "R = Symbol(\"R\", positive=True)\n",
    "e4 = Eq(Re,2*R*rho*barv/eta)\n",
    "e4"
   ]
  },
  {
   "cell_type": "code",
   "execution_count": 8,
   "metadata": {
    "collapsed": false
   },
   "outputs": [
    {
     "data": {
      "image/png": "[encoded data removed]",
      "text/latex": [
       "$$\\dot V = \\pi R^{2} \\bar v$$"
      ],
      "text/plain": [
       "            2       \n",
       "\\dot V = π⋅R ⋅\\bar v"
      ]
     },
     "execution_count": 8,
     "metadata": {},
     "output_type": "execute_result"
    }
   ],
   "source": [
    "e5 = Eq(dotV, pi*R**2*barv)\n",
    "e5"
   ]
  },
  {
   "cell_type": "code",
   "execution_count": 10,
   "metadata": {
    "collapsed": false
   },
   "outputs": [
    {
     "data": {
      "image/png": "[encoded data removed]",
      "text/latex": [
       "$$\\left [ \\left \\{ R : \\frac{2 \\dot V \\rho}{\\pi Re \\eta}, \\quad \\bar v : \\frac{\\pi Re^{2} \\eta^{2}}{4 \\dot V \\rho^{2}}\\right \\}\\right ]$$"
      ],
      "text/plain": [
       "⎡⎧                               2     2  ⎫⎤\n",
       "⎢⎪   2⋅\\dot V⋅\\rho           π⋅Re ⋅\\eta   ⎪⎥\n",
       "⎢⎨R: ─────────────, \\bar v: ──────────────⎬⎥\n",
       "⎢⎪     π⋅Re⋅\\eta                         2⎪⎥\n",
       "⎣⎩                          4⋅\\dot V⋅\\rho ⎭⎦"
      ]
     },
     "execution_count": 10,
     "metadata": {},
     "output_type": "execute_result"
    }
   ],
   "source": [
    "solve([e4, e5], [barv, R], dict=True)"
   ]
  },
  {
   "cell_type": "markdown",
   "metadata": {},
   "source": [
    "---\n",
    "The above solution, to provide two equations and ask for two variables to solve for is preferrable.\n",
    "But just to do it once \"by foot\" and step by step manually see the next three lines:"
   ]
  },
  {
   "cell_type": "code",
   "execution_count": 15,
   "metadata": {
    "collapsed": false
   },
   "outputs": [
    {
     "data": {
      "image/png": "[encoded data removed]",
      "text/latex": [
       "$$\\bar v = \\frac{\\dot V}{\\pi R^{2}}$$"
      ],
      "text/plain": [
       "         \\dot V\n",
       "\\bar v = ──────\n",
       "             2 \n",
       "          π⋅R  "
      ]
     },
     "execution_count": 15,
     "metadata": {},
     "output_type": "execute_result"
    }
   ],
   "source": [
    "Eq(barv, solve(e5, barv)[0])"
   ]
  },
  {
   "cell_type": "code",
   "execution_count": 13,
   "metadata": {
    "collapsed": false
   },
   "outputs": [
    {
     "data": {
      "image/png": "[encoded data removed]",
      "text/latex": [
       "$$Re = \\frac{2 \\dot V \\rho}{\\pi R \\eta}$$"
      ],
      "text/plain": [
       "     2⋅\\dot V⋅\\rho\n",
       "Re = ─────────────\n",
       "        π⋅R⋅\\eta  "
      ]
     },
     "execution_count": 13,
     "metadata": {},
     "output_type": "execute_result"
    }
   ],
   "source": [
    "e4.subs(barv, solve(e5, barv)[0])"
   ]
  },
  {
   "cell_type": "code",
   "execution_count": 16,
   "metadata": {
    "collapsed": false
   },
   "outputs": [
    {
     "data": {
      "image/png": "[encoded data removed]",
      "text/latex": [
       "$$R = \\frac{2 \\dot V \\rho}{\\pi Re \\eta}$$"
      ],
      "text/plain": [
       "    2⋅\\dot V⋅\\rho\n",
       "R = ─────────────\n",
       "      π⋅Re⋅\\eta  "
      ]
     },
     "execution_count": 16,
     "metadata": {},
     "output_type": "execute_result"
    }
   ],
   "source": [
    "Eq(R, solve(e4.subs(barv, solve(e5, barv)[0]), R)[0])"
   ]
  },
  {
   "cell_type": "markdown",
   "metadata": {},
   "source": [
    "So back to the main calculation again\n",
    "\n",
    "---"
   ]
  },
  {
   "cell_type": "code",
   "execution_count": null,
   "metadata": {
    "collapsed": true
   },
   "outputs": [],
   "source": []
  }
 ],
 "metadata": {
  "anaconda-cloud": {},
  "kernelspec": {
   "display_name": "Python [conda root]",
   "language": "python",
   "name": "conda-root-py"
  },
  "language_info": {
   "codemirror_mode": {
    "name": "ipython",
    "version": 3
   },
   "file_extension": ".py",
   "mimetype": "text/x-python",
   "name": "python",
   "nbconvert_exporter": "python",
   "pygments_lexer": "ipython3",
   "version": "3.5.2"
  }
 },
 "nbformat": 4,
 "nbformat_minor": 1
}
