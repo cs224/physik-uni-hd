{
 "cells": [
  {
   "cell_type": "markdown",
   "metadata": {},
   "source": [
    "# 10.1 Pipeline"
   ]
  },
  {
   "cell_type": "code",
   "execution_count": 3,
   "metadata": {
    "collapsed": false
   },
   "outputs": [],
   "source": [
    "from sympy import *\n",
    "init_printing()"
   ]
  },
  {
   "cell_type": "markdown",
   "metadata": {},
   "source": [
    "Massen oder Volumenstrom rein = das selbe raus\n",
    "$$dV/dt|_A =\\dot{V}_A = dV/dt|_C + dV/dt|_D = 2\\dot{V}$$"
   ]
  },
  {
   "cell_type": "markdown",
   "metadata": {},
   "source": [
    "$u_A$ ist Geschwindigkeit der Strömung bei A.\n",
    "\n",
    "$d^2\\pi/4$ ist Querschnittsfläche des Rohres bei A, C un D mit Durchmesser $d$. Die Rohre sind überall gleich dick.\n",
    "\n",
    "$$\\dot{V}_A := d^2\\pi/4 \\cdot u_A = 2\\dot{V}$$"
   ]
  },
  {
   "cell_type": "markdown",
   "metadata": {},
   "source": [
    "Reynoldszahl ist ${Re}=\\rho \\cdot u_A \\cdot d / \\eta$.\n",
    "\n",
    "Mit ${Re} = \\rho \\cdot u_A \\cdot d / \\eta < {Re}_K=2300$ (${Re}_K$ hängt von Literatur ab)"
   ]
  },
  {
   "cell_type": "markdown",
   "metadata": {},
   "source": [
    "$$\\Rightarrow u_A = \\frac{{Re}_K\\cdot \\eta}{\\rho\\cdot d}$$"
   ]
  },
  {
   "cell_type": "markdown",
   "metadata": {},
   "source": [
    "$$\\Rightarrow u_A=\\frac{8\\dot V}{d^2\\pi}=\\frac{{Re}_K\\cdot \\eta}{\\rho\\cdot d}$$"
   ]
  },
  {
   "cell_type": "markdown",
   "metadata": {},
   "source": [
    "Bernoulli:\n",
    "$$p_A + \\frac{1}{2}\\rho u_A^2 = p_{Ende} + \\frac{1}{2}\\rho u_{Ende}^2$$"
   ]
  },
  {
   "cell_type": "markdown",
   "metadata": {},
   "source": [
    "$$u_{Ende} = \\frac{\\dot{V}}{d^2\\pi/4}$$\n",
    "$$p_{Ende} = p_0$$"
   ]
  },
  {
   "cell_type": "markdown",
   "metadata": {},
   "source": [
    "Auflösen auf $p_A$."
   ]
  },
  {
   "cell_type": "markdown",
   "metadata": {},
   "source": [
    "# 10.1 Pipeline Musterlösung"
   ]
  },
  {
   "cell_type": "markdown",
   "metadata": {},
   "source": [
    "2 und 3 müssen nicht das gleiche Rohrvolumen und nicht den gleichen Radius haben"
   ]
  },
  {
   "cell_type": "markdown",
   "metadata": {},
   "source": [
    "Druckgradient:\n",
    "$\\frac{p_B-p_0}{l_2}$; $\\frac{p_B-p_0}{l_3}$ ist unterschiedlich"
   ]
  },
  {
   "cell_type": "markdown",
   "metadata": {},
   "source": [
    "[Gesetz von Hagen-Poiseuille](https://de.wikipedia.org/wiki/Gesetz_von_Hagen-Poiseuille):\n",
    "$$\\dot{V}_2=\\frac{\\pi}{8\\eta}R_2^4\\frac{p_B-p_0}{l_2}$$\n",
    "$$\\dot{V}_3=\\frac{\\pi}{8\\eta}R_3^4\\frac{p_B-p_0}{l_3}$$\n",
    "Da $\\dot{V}_2=\\dot{V}_3$ gilt:\n",
    "$$\\Rightarrow \\frac{R_2}{R_3}=\\sqrt[4]{\\frac{l_2}{l_3}}$$\n"
   ]
  },
  {
   "cell_type": "markdown",
   "metadata": {},
   "source": [
    "Mit ${Re} = \\rho \\cdot \\bar v \\cdot 2R / \\eta < {Re}_K=2300$ (${Re}_K$ hängt von Literatur ab)"
   ]
  },
  {
   "cell_type": "markdown",
   "metadata": {},
   "source": [
    "$$\\dot{V} := R^2\\pi \\cdot \\bar v$$\n",
    "$$\\dot{V}_A = 2\\dot{V}_2 = 2\\dot{V}_3$$"
   ]
  },
  {
   "cell_type": "markdown",
   "metadata": {},
   "source": [
    "$$R < \\frac{Re_K\\eta}{2\\rho\\bar v}=\\frac{Re_K\\eta}{2\\rho}\\frac{\\pi R^2}{\\dot{V_A}}$$\n",
    "$$R_1 > \\frac{2\\rho\\dot{V_A}}{\\pi\\eta Re_K}=\\frac{4\\rho\\dot{V}}{\\pi\\eta Re_K}$$"
   ]
  },
  {
   "cell_type": "markdown",
   "metadata": {},
   "source": [
    "$$R_2=\\frac{2\\rho\\dot{V}}{\\pi\\eta Re_K}$$"
   ]
  },
  {
   "cell_type": "markdown",
   "metadata": {},
   "source": [
    "$$R_3=R_2\\cdot\\sqrt[4]{\\frac{l_3}{l_2}}=\\frac{2\\rho\\dot{V}}{\\pi\\eta Re_K}\\cdot\\sqrt[4]{\\frac{l_3}{l_2}}$$"
   ]
  },
  {
   "cell_type": "markdown",
   "metadata": {},
   "source": [
    "$$\\Delta p_2=p_B-p_0=\\dot V\\cdot \\frac{l_2}{R_2^4}\\frac{8\\eta}{\\pi}$$"
   ]
  },
  {
   "cell_type": "markdown",
   "metadata": {},
   "source": [
    "$$\\Delta p_1 = p_A - p_B = 2\\dot V\\cdot \\frac{l_1}{R_1^4}\\frac{8\\eta}{\\pi}$$"
   ]
  },
  {
   "cell_type": "markdown",
   "metadata": {},
   "source": [
    "$$p_A = \\Delta p_1 + \\Delta p_2 + p_0= \\dot V\\frac{8\\eta}{\\pi}(\\frac{2l_1}{R_1^4}+\\frac{l_2}{R_2^4}) + p_0$$"
   ]
  },
  {
   "cell_type": "markdown",
   "metadata": {},
   "source": [
    "Einsetzen von $R_1^4$ und $R_2^4$ ergibt:"
   ]
  },
  {
   "cell_type": "markdown",
   "metadata": {},
   "source": [
    "$$p_A=p_0+\\dot V\\frac{8\\eta}{\\pi}(\\frac{2l_1}{(\\frac{4\\rho\\dot{V}}{\\pi\\eta Re_K})^4}+\\frac{l_2}{(\\frac{2\\rho\\dot{V}}{\\pi\\eta Re_K})^4})$$"
   ]
  },
  {
   "cell_type": "markdown",
   "metadata": {},
   "source": [
    "$$=p_0+\\dot V\\frac{8\\eta}{\\pi}\\left(\\frac{\\pi\\eta Re_K}{2\\rho\\dot{V}}\\right)^4(\\frac{1}{8}l_1+l_2)$$"
   ]
  },
  {
   "cell_type": "markdown",
   "metadata": {},
   "source": [
    "Bernoulli darf nicht angewendet werden. Bernoulli nur wenn Flüssigkeit als reibungsfrei angenommen wird. Dann dürfte kein $\\eta$ angegeben werden."
   ]
  }
 ],
 "metadata": {
  "anaconda-cloud": {},
  "kernelspec": {
   "display_name": "Python [conda root]",
   "language": "python",
   "name": "conda-root-py"
  },
  "language_info": {
   "codemirror_mode": {
    "name": "ipython",
    "version": 3
   },
   "file_extension": ".py",
   "mimetype": "text/x-python",
   "name": "python",
   "nbconvert_exporter": "python",
   "pygments_lexer": "ipython3",
   "version": "3.5.2"
  }
 },
 "nbformat": 4,
 "nbformat_minor": 1
}
