{
 "cells": [
  {
   "cell_type": "markdown",
   "metadata": {},
   "source": [
    "# 10.1 Pipeline"
   ]
  },
  {
   "cell_type": "code",
   "execution_count": 3,
   "metadata": {
    "collapsed": false
   },
   "outputs": [],
   "source": [
    "from sympy import *\n",
    "init_printing()"
   ]
  },
  {
   "cell_type": "markdown",
   "metadata": {},
   "source": [
    "Massen oder Volumenstrom rein = das selbe raus\n",
    "$$dV/dt|_A =\\dot{V}_A = dV/dt|_C + dV/dt|_D = 2\\dot{V}$$"
   ]
  },
  {
   "cell_type": "markdown",
   "metadata": {},
   "source": [
    "$u_A$ ist Geschwindigkeit der Strömung bei A.\n",
    "\n",
    "$d^2\\pi/4$ ist Querschnittsfläche des Rohres bei A, C un D mit Durchmesser $d$. Die Rohre sind überall gleich dick.\n",
    "\n",
    "$$\\dot{V}_A := d^2\\pi/4 \\cdot u_A = 2\\dot{V}$$"
   ]
  },
  {
   "cell_type": "markdown",
   "metadata": {},
   "source": [
    "Reynoldszahl ist $\\hbox{Re}=\\rho \\cdot u_A \\cdot d / \\eta$.\n",
    "\n",
    "Mit $\\hbox{Re} = \\rho \\cdot u_A \\cdot d / \\eta < \\hbox{Re}_K=2300$ ($\\hbox{Re}_K$ hängt von Literatur ab)"
   ]
  },
  {
   "cell_type": "markdown",
   "metadata": {},
   "source": [
    "$$\\Rightarrow u_A = \\frac{\\hbox{Re}_K\\cdot \\eta}{\\rho\\cdot d}$$"
   ]
  },
  {
   "cell_type": "markdown",
   "metadata": {},
   "source": [
    "$$\\Rightarrow u_A=\\frac{8\\dot V}{d^2\\pi}=\\frac{\\hbox{Re}_K\\cdot \\eta}{\\rho\\cdot d}$$"
   ]
  },
  {
   "cell_type": "markdown",
   "metadata": {},
   "source": [
    "Bernoulli:\n",
    "$$p_A + \\frac{1}{2}\\rho u_A^2 = p_{Ende} + \\frac{1}{2}\\rho u_{Ende}^2$$"
   ]
  },
  {
   "cell_type": "markdown",
   "metadata": {},
   "source": [
    "$$u_{Ende} = \\frac{\\dot{V}}{d^2\\pi/4}$$\n",
    "$$p_{Ende} = p_0$$"
   ]
  },
  {
   "cell_type": "markdown",
   "metadata": {},
   "source": [
    "Auflösen auf $p_A$."
   ]
  },
  {
   "cell_type": "code",
   "execution_count": 4,
   "metadata": {
    "collapsed": false
   },
   "outputs": [
    {
     "data": {
      "image/png": "[encoded data removed]",
      "text/latex": [
       "$$-1.0$$"
      ],
      "text/plain": [
       "-1.00000000000000"
      ]
     },
     "execution_count": 4,
     "metadata": {},
     "output_type": "execute_result"
    }
   ],
   "source": [
    "x = Symbol('x')\n",
    "exp(I*x).subs(x,pi).evalf()"
   ]
  },
  {
   "cell_type": "code",
   "execution_count": 5,
   "metadata": {
    "collapsed": false
   },
   "outputs": [
    {
     "data": {
      "image/png": "[encoded data removed]",
      "text/latex": [
       "$$\\int \\frac{1}{x}\\, dx$$"
      ],
      "text/plain": [
       "⌠     \n",
       "⎮ 1   \n",
       "⎮ ─ dx\n",
       "⎮ x   \n",
       "⌡     "
      ]
     },
     "execution_count": 5,
     "metadata": {},
     "output_type": "execute_result"
    }
   ],
   "source": [
    "Integral(1/x, x)"
   ]
  },
  {
   "cell_type": "code",
   "execution_count": null,
   "metadata": {
    "collapsed": true
   },
   "outputs": [],
   "source": []
  }
 ],
 "metadata": {
  "anaconda-cloud": {},
  "kernelspec": {
   "display_name": "Python [conda root]",
   "language": "python",
   "name": "conda-root-py"
  },
  "language_info": {
   "codemirror_mode": {
    "name": "ipython",
    "version": 3
   },
   "file_extension": ".py",
   "mimetype": "text/x-python",
   "name": "python",
   "nbconvert_exporter": "python",
   "pygments_lexer": "ipython3",
   "version": "3.5.2"
  }
 },
 "nbformat": 4,
 "nbformat_minor": 1
}
